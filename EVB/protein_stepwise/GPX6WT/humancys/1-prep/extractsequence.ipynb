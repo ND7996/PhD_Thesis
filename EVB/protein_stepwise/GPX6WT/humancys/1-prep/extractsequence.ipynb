{
 "cells": [
  {
   "cell_type": "code",
   "execution_count": 1,
   "metadata": {},
   "outputs": [
    {
     "name": "stdout",
     "output_type": "stream",
     "text": [
      "Reading file: original_humancys.pdb\n",
      "Chain X: PRO GLN ASN ARG LYS VAL ASP CYX ASN LYS GLY VAL THR GLY THR ILE TYR GLU TYR GLY ALA LEU THR LEU ASN GLY GLU GLU TYR ILE GLN PHE LYS GLN PHE ALA GLY LYS HID VAL LEU PHE VAL ASN VAL ALA ALA TYR CYS GLY LEU ALA ALA GLN TYR PRO GLU LEU ASN ALA LEU GLN GLU GLU LEU LYS ASN PHE GLY VAL ILE VAL LEU ALA PHE PRO CYS ASN GLN PHE GLY LYS GLN GLU PRO GLY THR ASN SER GLU ILE LEU LEU GLY LEU LYS TYR VAL CYS PRO GLY SER GLY PHE VAL PRO SER PHE GLN LEU PHE GLU LYS GLY ASP VAL ASN GLY GLU LYS GLU GLN LYS VAL PHE THR PHE LEU LYS ASN SER CYX PRO PRO THR SER ASP LEU LEU GLY SER SER SER GLN LEU PHE TRP GLU PRO MET LYS VAL HID ASP ILE ARG TRP ASN PHE GLU LYS PHE LEU VAL GLY PRO ASP GLY VAL PRO VAL MET HID TRP PHE HID GLN ALA PRO VAL SER THR VAL LYS SER ASP ILE LEU GLU TYR LEU LYS GLN PHE ASN THR HIE\n"
     ]
    }
   ],
   "source": [
    "import os\n",
    "\n",
    "def extract_sequence_from_atom(pdb_file):\n",
    "    try:\n",
    "        with open(pdb_file, 'r') as file:\n",
    "            lines = file.readlines()\n",
    "    except FileNotFoundError:\n",
    "        print(f\"File not found: {pdb_file}\")\n",
    "        return {}\n",
    "    except Exception as e:\n",
    "        print(f\"An error occurred while reading the file: {e}\")\n",
    "        return {}\n",
    "\n",
    "    sequence_dict = {}\n",
    "    seen_residues = {}\n",
    "    for line in lines:\n",
    "        if line.startswith(\"ATOM\"):\n",
    "            chain_id = line[21].strip()\n",
    "            residue_name = line[17:20].strip()\n",
    "            residue_number = int(line[22:26].strip())\n",
    "            if chain_id not in sequence_dict:\n",
    "                sequence_dict[chain_id] = []\n",
    "                seen_residues[chain_id] = set()\n",
    "            if (residue_name, residue_number) not in seen_residues[chain_id]:\n",
    "                sequence_dict[chain_id].append(residue_name)\n",
    "                seen_residues[chain_id].add((residue_name, residue_number))\n",
    "\n",
    "    return sequence_dict\n",
    "\n",
    "def main():\n",
    "    pdb_file_path = \"original_humancys.pdb\"\n",
    "    if not os.path.isfile(pdb_file_path):\n",
    "        print(f\"Invalid file path: {pdb_file_path}\")\n",
    "        return\n",
    "\n",
    "    print(f\"Reading file: {pdb_file_path}\")\n",
    "    sequence = extract_sequence_from_atom(pdb_file_path)\n",
    "\n",
    "    if not sequence:\n",
    "        print(\"No ATOM records found or file could not be read.\")\n",
    "    else:\n",
    "        for chain, residues in sequence.items():\n",
    "            print(f\"Chain {chain}: {' '.join(residues)}\")\n",
    "\n",
    "if __name__ == \"__main__\":\n",
    "    main()\n"
   ]
  }
 ],
 "metadata": {
  "kernelspec": {
   "display_name": "openMM",
   "language": "python",
   "name": "python3"
  },
  "language_info": {
   "codemirror_mode": {
    "name": "ipython",
    "version": 3
   },
   "file_extension": ".py",
   "mimetype": "text/x-python",
   "name": "python",
   "nbconvert_exporter": "python",
   "pygments_lexer": "ipython3",
   "version": "3.8.19"
  }
 },
 "nbformat": 4,
 "nbformat_minor": 2
}
