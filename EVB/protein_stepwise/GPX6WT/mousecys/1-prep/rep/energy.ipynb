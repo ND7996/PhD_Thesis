{
 "cells": [
  {
   "cell_type": "code",
   "execution_count": 1,
   "metadata": {},
   "outputs": [
    {
     "name": "stdout",
     "output_type": "stream",
     "text": [
      "Unexpected exception formatting exception. Falling back to standard exception\n"
     ]
    },
    {
     "name": "stderr",
     "output_type": "stream",
     "text": [
      "Traceback (most recent call last):\n",
      "  File \"/home/hp/anaconda3/envs/openMM/lib/python3.8/site-packages/IPython/core/interactiveshell.py\", line 3508, in run_code\n",
      "    exec(code_obj, self.user_global_ns, self.user_ns)\n",
      "  File \"/tmp/ipykernel_51072/3409521924.py\", line 5, in <module>\n",
      "    with open('qaf.PlotData.json', 'r') as f:\n",
      "  File \"/home/hp/anaconda3/envs/openMM/lib/python3.8/site-packages/IPython/core/interactiveshell.py\", line 284, in _modified_open\n",
      "    return io_open(file, *args, **kwargs)\n",
      "FileNotFoundError: [Errno 2] No such file or directory: 'qaf.PlotData.json'\n",
      "\n",
      "During handling of the above exception, another exception occurred:\n",
      "\n",
      "Traceback (most recent call last):\n",
      "  File \"/home/hp/anaconda3/envs/openMM/lib/python3.8/site-packages/IPython/core/interactiveshell.py\", line 2105, in showtraceback\n",
      "    stb = self.InteractiveTB.structured_traceback(\n",
      "  File \"/home/hp/anaconda3/envs/openMM/lib/python3.8/site-packages/IPython/core/ultratb.py\", line 1396, in structured_traceback\n",
      "    return FormattedTB.structured_traceback(\n",
      "  File \"/home/hp/anaconda3/envs/openMM/lib/python3.8/site-packages/IPython/core/ultratb.py\", line 1287, in structured_traceback\n",
      "    return VerboseTB.structured_traceback(\n",
      "  File \"/home/hp/anaconda3/envs/openMM/lib/python3.8/site-packages/IPython/core/ultratb.py\", line 1140, in structured_traceback\n",
      "    formatted_exception = self.format_exception_as_a_whole(etype, evalue, etb, number_of_lines_of_context,\n",
      "  File \"/home/hp/anaconda3/envs/openMM/lib/python3.8/site-packages/IPython/core/ultratb.py\", line 1055, in format_exception_as_a_whole\n",
      "    frames.append(self.format_record(record))\n",
      "  File \"/home/hp/anaconda3/envs/openMM/lib/python3.8/site-packages/IPython/core/ultratb.py\", line 955, in format_record\n",
      "    frame_info.lines, Colors, self.has_colors, lvals\n",
      "  File \"/home/hp/anaconda3/envs/openMM/lib/python3.8/site-packages/IPython/core/ultratb.py\", line 778, in lines\n",
      "    return self._sd.lines\n",
      "  File \"/home/hp/anaconda3/envs/openMM/lib/python3.8/site-packages/stack_data/utils.py\", line 144, in cached_property_wrapper\n",
      "    value = obj.__dict__[self.func.__name__] = self.func(obj)\n",
      "  File \"/home/hp/anaconda3/envs/openMM/lib/python3.8/site-packages/stack_data/core.py\", line 734, in lines\n",
      "    pieces = self.included_pieces\n",
      "  File \"/home/hp/anaconda3/envs/openMM/lib/python3.8/site-packages/stack_data/utils.py\", line 144, in cached_property_wrapper\n",
      "    value = obj.__dict__[self.func.__name__] = self.func(obj)\n",
      "  File \"/home/hp/anaconda3/envs/openMM/lib/python3.8/site-packages/stack_data/core.py\", line 677, in included_pieces\n",
      "    scope_pieces = self.scope_pieces\n",
      "  File \"/home/hp/anaconda3/envs/openMM/lib/python3.8/site-packages/stack_data/utils.py\", line 144, in cached_property_wrapper\n",
      "    value = obj.__dict__[self.func.__name__] = self.func(obj)\n",
      "  File \"/home/hp/anaconda3/envs/openMM/lib/python3.8/site-packages/stack_data/core.py\", line 614, in scope_pieces\n",
      "    scope_start, scope_end = self.source.line_range(self.scope)\n",
      "  File \"/home/hp/anaconda3/envs/openMM/lib/python3.8/site-packages/stack_data/core.py\", line 178, in line_range\n",
      "    return line_range(self.asttext(), node)\n",
      "  File \"/home/hp/anaconda3/envs/openMM/lib/python3.8/site-packages/executing/executing.py\", line 333, in asttext\n",
      "    self._asttext = ASTText(self.text, tree=self.tree, filename=self.filename)\n",
      "  File \"/home/hp/anaconda3/envs/openMM/lib/python3.8/site-packages/asttokens/asttokens.py\", line 305, in __init__\n",
      "    super(ASTText, self).__init__(source_text, filename)\n",
      "  File \"/home/hp/anaconda3/envs/openMM/lib/python3.8/site-packages/asttokens/asttokens.py\", line 47, in __init__\n",
      "    source_text = six.ensure_text(source_text)\n",
      "AttributeError: module 'six' has no attribute 'ensure_text'\n"
     ]
    }
   ],
   "source": [
    "import matplotlib.pyplot as plt\n",
    "import json\n",
    "\n",
    "# Load data from JSON file\n",
    "with open('qaf.PlotData.json', 'r') as f:\n",
    "    data = json.load(f)\n",
    "\n",
    "# Define colors for each subplot\n",
    "colors = ['maroon', 'blue', 'green', 'purple', 'red']  # Add more colors if needed\n",
    "\n",
    "# Iterate over each plot in the data\n",
    "for key, value in data.items():\n",
    "    fig, ax = plt.subplots(figsize=(11, 8))  # Adjust the figsize parameter for desired size\n",
    "\n",
    "    # Iterate over each subplot within the plot\n",
    "    for i, (subplot_key, subplot_value) in enumerate(value['subplots'].items()):\n",
    "        x = subplot_value['xdata']\n",
    "        y = subplot_value['ydata']\n",
    "\n",
    "        # Plot the data with lines (without markers)\n",
    "        ax.plot(x, y, color=colors[i % len(colors)], label=subplot_key)\n",
    "\n",
    "    # Set labels and title\n",
    "    ax.set_xlabel('E1-E2 [kcal/mol]', fontsize=14)  # Increase font size for labels\n",
    "    ax.set_ylabel('Free energy [kcal/mol]', fontsize=14)  # Increase font size for labels\n",
    "    ax.set_title(key, fontsize=16)  # Increase font size for title\n",
    "\n",
    "    # Add legend and adjust font sizes\n",
    "    ax.legend(fontsize='large')  # Increase font size for legend\n",
    "\n",
    "    # Customize tick labels font size\n",
    "    ax.tick_params(axis='both', which='major', labelsize='large')  # Increase font size for tick labels\n",
    "    ax.tick_params(axis='both', which='minor', labelsize='large')  # Increase font size for tick labels\n",
    "\n",
    "    # Show the plot interactively\n",
    "    plt.tight_layout()  # Adjust layout for better appearance\n",
    "    plt.show()\n",
    "    plt.close(fig)  # Close the current figure to free memory"
   ]
  }
 ],
 "metadata": {
  "kernelspec": {
   "display_name": "AmberTools22",
   "language": "python",
   "name": "python3"
  },
  "language_info": {
   "codemirror_mode": {
    "name": "ipython",
    "version": 3
   },
   "file_extension": ".py",
   "mimetype": "text/x-python",
   "name": "python",
   "nbconvert_exporter": "python",
   "pygments_lexer": "ipython3",
   "version": "3.8.19"
  }
 },
 "nbformat": 4,
 "nbformat_minor": 2
}
