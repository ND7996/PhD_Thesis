{
 "cells": [
  {
   "cell_type": "code",
   "execution_count": null,
   "metadata": {},
   "outputs": [],
   "source": [
    "import pandas as pd\n",
    "import matplotlib.pyplot as plt\n",
    "from pandas.plotting import table\n",
    "\n",
    "# Example input data as a list of lists\n",
    "data = [\n",
    "    ['Replica0',  '21.59' , '-29.75'],\n",
    "    ['Replica1',  '27.53', '-25.52'],\n",
    "    ['Replica2', '23.86', '-24.42'],\n",
    "    ['Replica3', '35.92', '-0.93'],\n",
    "    ['Replica4', '30.5', '-10.58'],\n",
    "    ['Replica5', '27.62', '-13.78'],\n",
    "    ['Replica6', '29.54', '-1.17'],\n",
    "    ['Replica7', '30.87', '-19.43'],\n",
    "    ['Replica8', '24.35', '-28.82'],\n",
    "    ['Replica9', '24.20', '-27.61'],\n",
    "    ['Merged Replica', 35, 'Chicago']\n",
    "]\n",
    "\n",
    "# Specify column names\n",
    "columns = ['Mouse Cys', 'dG* Mean', 'dG0 Mean']\n",
    "\n",
    "# Create DataFrame\n",
    "df = pd.DataFrame(data, columns=columns)\n",
    "\n",
    "# Print the DataFrame\n",
    "print(df)\n",
    "\n",
    "# Plotting the table\n",
    "fig, ax = plt.subplots(figsize=(15, 3))  # Adjust size as needed\n",
    "ax.axis('tight')\n",
    "ax.axis('off')\n",
    "\n",
    "# Add a table at the bottom of the axes\n",
    "table_plot = table(ax, df, loc='center', cellLoc='center', colWidths=[0.2]*len(df.columns))\n",
    "\n",
    "# Format the table\n",
    "table_plot.auto_set_font_size(False)\n",
    "table_plot.set_fontsize(12)\n",
    "table_plot.scale(1.2, 1.2)\n",
    "\n",
    "ax.set_title('Step 1 of Reaction 1')  # Set the title using ax.set_title method\n",
    "plt.show()  # Display the table\n"
   ]
  }
 ],
 "metadata": {
  "kernelspec": {
   "display_name": "openMM",
   "language": "python",
   "name": "python3"
  },
  "language_info": {
   "codemirror_mode": {
    "name": "ipython",
    "version": 3
   },
   "file_extension": ".py",
   "mimetype": "text/x-python",
   "name": "python",
   "nbconvert_exporter": "python",
   "pygments_lexer": "ipython3",
   "version": "3.8.19"
  }
 },
 "nbformat": 4,
 "nbformat_minor": 2
}
