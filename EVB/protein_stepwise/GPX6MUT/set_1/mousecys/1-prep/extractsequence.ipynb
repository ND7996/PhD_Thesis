{
 "cells": [
  {
   "cell_type": "code",
   "execution_count": 9,
   "metadata": {},
   "outputs": [
    {
     "name": "stdout",
     "output_type": "stream",
     "text": [
      "Reading file: original_mousecys.pdb\n",
      "Chain X: PRO GLN LYS SER LYS VAL ASP CYX ASN LYS GLY VAL THR GLY THR VAL TYR GLU TYR GLY ALA ASN THR ILE ASP GLY GLY GLU PHE VAL ASN PHE GLN GLN TYR ALA GLY LYS HID ILE LEU PHE VAL ASN VAL ALA SER PHE CYS GLY LEU THR ALA THR TYR PRO GLU LEU ASN THR LEU GLN GLU GLU LEU LYS PRO PHE ASN VAL THR VAL LEU GLY PHE PRO CYS ASN GLN PHE GLY LYS GLN GLU PRO GLY LYS ASN SER GLU ILE LEU LEU GLY LEU LYS TYR VAL ARG PRO GLY GLY GLY TYR VAL PRO ASN PHE GLN LEU PHE GLU LYS GLY ASP VAL ASN GLY ASP ASN GLU GLN LYS VAL PHE SER PHE LEU LYS ASN SER CYX PRO PRO THR SER GLU LEU PHE GLY SER PRO GLU HID LEU PHE TRP ASP PRO MET LYS VAL HID ASP ILE ARG TRP ASN PHE GLU LYS PHE LEU VAL GLY PRO ASP GLY VAL PRO VAL MET ARG TRP PHE HID HID THR PRO VAL ARG ILE VAL GLN SER ASP ILE MET GLU TYR LEU ASN GLN THR SER\n"
     ]
    }
   ],
   "source": [
    "import os\n",
    "\n",
    "def extract_sequence_from_atom(pdb_file):\n",
    "    try:\n",
    "        with open(pdb_file, 'r') as file:\n",
    "            lines = file.readlines()\n",
    "    except FileNotFoundError:\n",
    "        print(f\"File not found: {pdb_file}\")\n",
    "        return {}\n",
    "    except Exception as e:\n",
    "        print(f\"An error occurred while reading the file: {e}\")\n",
    "        return {}\n",
    "\n",
    "    sequence_dict = {}\n",
    "    seen_residues = {}\n",
    "    for line in lines:\n",
    "        if line.startswith(\"ATOM\"):\n",
    "            chain_id = line[21].strip()\n",
    "            residue_name = line[17:20].strip()\n",
    "            residue_number = int(line[22:26].strip())\n",
    "            if chain_id not in sequence_dict:\n",
    "                sequence_dict[chain_id] = []\n",
    "                seen_residues[chain_id] = set()\n",
    "            if (residue_name, residue_number) not in seen_residues[chain_id]:\n",
    "                sequence_dict[chain_id].append(residue_name)\n",
    "                seen_residues[chain_id].add((residue_name, residue_number))\n",
    "\n",
    "    return sequence_dict\n",
    "\n",
    "def main():\n",
    "    pdb_file_path = \"original_mousecys.pdb\"\n",
    "    if not os.path.isfile(pdb_file_path):\n",
    "        print(f\"Invalid file path: {pdb_file_path}\")\n",
    "        return\n",
    "\n",
    "    print(f\"Reading file: {pdb_file_path}\")\n",
    "    sequence = extract_sequence_from_atom(pdb_file_path)\n",
    "\n",
    "    if not sequence:\n",
    "        print(\"No ATOM records found or file could not be read.\")\n",
    "    else:\n",
    "        for chain, residues in sequence.items():\n",
    "            print(f\"Chain {chain}: {' '.join(residues)}\")\n",
    "\n",
    "if __name__ == \"__main__\":\n",
    "    main()\n"
   ]
  }
 ],
 "metadata": {
  "kernelspec": {
   "display_name": "openMM",
   "language": "python",
   "name": "python3"
  },
  "language_info": {
   "codemirror_mode": {
    "name": "ipython",
    "version": 3
   },
   "file_extension": ".py",
   "mimetype": "text/x-python",
   "name": "python",
   "nbconvert_exporter": "python",
   "pygments_lexer": "ipython3",
   "version": "3.8.19"
  }
 },
 "nbformat": 4,
 "nbformat_minor": 2
}
