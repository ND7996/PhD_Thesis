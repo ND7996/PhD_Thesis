{
 "cells": [
  {
   "cell_type": "code",
   "execution_count": 4,
   "metadata": {},
   "outputs": [
    {
     "name": "stdout",
     "output_type": "stream",
     "text": [
      "File saved to human_mouse_cys_comparison_updated.csv\n"
     ]
    }
   ],
   "source": [
    "import pandas as pd\n",
    "\n",
    "# Data\n",
    "data = {\n",
    "    'Position': [3, 4, 16, 22, 24, 25, 27, 29, 30, 31, 33, 35, 40, 47, 48, 52, 54, 60, 67, 69, 71, 74, 87, 99, 102, 104, 107, 119, 120, 126, 137, 139, 142, 143, 144, 148, 173, 177, 178, 181, 182, 184, 188, 192, 194, 195, 196, 197],\n",
    "    'Human Cys': ['N', 'R', 'I', 'L', 'L', 'N', 'E', 'Y', 'I', 'Q', 'K', 'F', 'V', 'A', 'Y', 'A', 'Q', 'A', 'N', 'G', 'I', 'A', 'T', 'C', 'S', 'F', 'S', 'E', 'K', 'T', 'D', 'L', 'S', 'S', 'Q', 'E', 'H', 'Q', 'A', 'S', 'T', 'K', 'L', 'K', 'F', 'N', 'T', 'H'],\n",
    "    'Mouse Cys': ['K', 'S', 'V', 'N', 'I', 'D', 'G', 'F', 'V', 'N', 'Q', 'Y', 'I', 'S', 'F', 'T', 'T', 'T', 'P', 'N', 'T', 'G', 'K', 'R', 'G', 'Y', 'N', 'D', 'N', 'S', 'E', 'F', 'P', 'E', 'H', 'D', 'R', 'H', 'T', 'R', 'I', 'Q', 'M', 'N', 'T', 'S', '-', '-']\n",
    "}\n",
    "\n",
    "# Create DataFrame\n",
    "df = pd.DataFrame(data)\n",
    "\n",
    "# Save DataFrame to a new CSV file in the current working directory\n",
    "new_file_path = 'human_mouse_cys_comparison_updated.csv'\n",
    "df.to_csv(new_file_path, index=False)\n",
    "\n",
    "print(f\"File saved to {new_file_path}\")\n"
   ]
  },
  {
   "cell_type": "code",
   "execution_count": 24,
   "metadata": {},
   "outputs": [
    {
     "name": "stdout",
     "output_type": "stream",
     "text": [
      "File saved to human_mouse_cys_comparison_with_distances.csv\n"
     ]
    }
   ],
   "source": [
    "import pandas as pd\n",
    "\n",
    "# Data for residues and distances\n",
    "residue_numbers = [3, 4, 16, 22, 24, 25, 27, 29, 30, 31,\n",
    "                   33, 35, 40, 47, 48, 52, 54, 60, 67, 69,\n",
    "                   71, 74, 87, 99, 102, 104, 107, 119, 120,\n",
    "                   126, 137, 139, 142, 143, 144, 148, 173, 177,\n",
    "                   178, 181, 182, 184, 188, 192, 194, 195]\n",
    "distances = [21.63, 19.64, 27.12, 22.91, 18.69, 20.70, 24.28, 26.66, 26.67, 28.12,\n",
    "             30.54, 28.03, 23.17, 5.59, 3.88, 5.20, 10.00, 19.05, 30.74, 27.97,\n",
    "             23.11, 14.29, 16.44, 9.50, 16.77, 16.10, 19.80, 23.30, 22.14, 23.16,\n",
    "             21.60, 16.28, 16.44, 15.29, 11.60, 20.84, 20.19, 11.51, 14.81, 19.54,\n",
    "             20.11, 21.90, 27.64, 33.41, 34.61, 35.43]\n",
    "\n",
    "# Data for human and mouse Cys\n",
    "data = {\n",
    "    'Position': [3, 4, 16, 22, 24, 25, 27, 29, 30, 31, 33, 35, 40, 47, 48, 52, 54, 60, 67, 69, 71, 74, 87, 99, 102, 104, 107, 119, 120, 126, 137, 139, 142, 143, 144, 148, 173, 177, 178, 181, 182, 184, 188, 192, 194, 195],\n",
    "    'Human Cys': ['N', 'R', 'I', 'L', 'L', 'N', 'E', 'Y', 'I', 'Q', 'K', 'F', 'V', 'A', 'Y', 'A', 'Q', 'A', 'N', 'G', 'I', 'A', 'T', 'C', 'S', 'F', 'S', 'E', 'K', 'T', 'D', 'L', 'S', 'S', 'Q', 'E', 'H', 'Q', 'A', 'S', 'T', 'K', 'L', 'K', 'F', 'N', 'T', 'H'],\n",
    "    'Mouse Cys': ['K', 'S', 'V', 'N', 'I', 'D', 'G', 'F', 'V', 'N', 'Q', 'Y', 'I', 'S', 'F', 'T', 'T', 'T', 'P', 'N', 'T', 'G', 'K', 'R', 'G', 'Y', 'N', 'D', 'N', 'S', 'E', 'F', 'P', 'E', 'H', 'D', 'R', 'H', 'T', 'R', 'I', 'Q', 'M', 'N', 'T', 'S', '-', '-']\n",
    "}\n",
    "\n",
    "# Adjust lengths to match the length of 'Position'\n",
    "length = len(data['Position'])\n",
    "data['Human Cys'] = data['Human Cys'][:length]\n",
    "data['Mouse Cys'] = data['Mouse Cys'][:length]\n",
    "\n",
    "# Create DataFrame\n",
    "df = pd.DataFrame(data)\n",
    "\n",
    "# Ensure distances length matches\n",
    "assert len(distances) == len(df), \"Length of distances does not match number of rows in data.\"\n",
    "\n",
    "# Add distances to the DataFrame\n",
    "df['Distance'] = distances[:len(df)]\n",
    "\n",
    "# Save DataFrame to a new CSV file in the current working directory\n",
    "new_file_path = 'human_mouse_cys_comparison_with_distances.csv'\n",
    "df.to_csv(new_file_path, index=False)\n",
    "\n",
    "print(f\"File saved to {new_file_path}\")\n"
   ]
  },
  {
   "cell_type": "code",
   "execution_count": 37,
   "metadata": {},
   "outputs": [
    {
     "name": "stdout",
     "output_type": "stream",
     "text": [
      "Length of Position: 46\n",
      "Length of Human Cys: 48\n",
      "Length of Mouse Cys: 48\n",
      "Adjusted Length of Human Cys: 46\n",
      "Adjusted Length of Mouse Cys: 46\n",
      "Filtered file saved to human_mouse_cys_comparison_filtered_distances3.csv\n"
     ]
    }
   ],
   "source": [
    "import pandas as pd\n",
    "\n",
    "# Data for residues and distances\n",
    "residue_numbers = [3, 4, 16, 22, 24, 25, 27, 29, 30, 31,\n",
    "                   33, 35, 40, 47, 48, 52, 54, 60, 67, 69,\n",
    "                   71, 74, 87, 99, 102, 104, 107, 119, 120,\n",
    "                   126, 137, 139, 142, 143, 144, 148, 173, 177,\n",
    "                   178, 181, 182, 184, 188, 192, 194, 195]\n",
    "distances = [21.63, 19.64, 27.12, 22.91, 18.69, 20.70, 24.28, 26.66, 26.67, 28.12,\n",
    "             30.54, 28.03, 23.17, 5.59, 3.88, 5.20, 10.00, 19.05, 30.74, 27.97,\n",
    "             23.11, 14.29, 16.44, 9.50, 16.77, 16.10, 19.80, 23.30, 22.14, 23.16,\n",
    "             21.60, 16.28, 16.44, 15.29, 11.60, 20.84, 20.19, 11.51, 14.81, 19.54,\n",
    "             20.11, 21.90, 27.64, 33.41, 34.61, 35.43]\n",
    "\n",
    "# Data for human and mouse Cys\n",
    "data = {\n",
    "    'Position': [3, 4, 16, 22, 24, 25, 27, 29, 30, 31, 33, 35, 40, 47, 48, 52, 54, 60, 67, 69, 71, 74, 87, 99, 102, 104, 107, 119, 120, 126, 137, 139, 142, 143, 144, 148, 173, 177, 178, 181, 182, 184, 188, 192, 194, 195],\n",
    "    'Human Cys': ['N', 'R', 'I', 'L', 'L', 'N', 'E', 'Y', 'I', 'Q', 'K', 'F', 'V', 'A', 'Y', 'A', 'Q', 'A', 'N', 'G', 'I', 'A', 'T', 'C', 'S', 'F', 'S', 'E', 'K', 'T', 'D', 'L', 'S', 'S', 'Q', 'E', 'H', 'Q', 'A', 'S', 'T', 'K', 'L', 'K', 'F', 'N', 'T', 'H'],\n",
    "    'Mouse Cys': ['K', 'S', 'V', 'N', 'I', 'D', 'G', 'F', 'V', 'N', 'Q', 'Y', 'I', 'S', 'F', 'T', 'T', 'T', 'P', 'N', 'T', 'G', 'K', 'R', 'G', 'Y', 'N', 'D', 'N', 'S', 'E', 'F', 'P', 'E', 'H', 'D', 'R', 'H', 'T', 'R', 'I', 'Q', 'M', 'N', 'T', 'S', '-', '-']\n",
    "}\n",
    "\n",
    "# Check the lengths of the data lists\n",
    "print(\"Length of Position:\", len(data['Position']))\n",
    "print(\"Length of Human Cys:\", len(data['Human Cys']))\n",
    "print(\"Length of Mouse Cys:\", len(data['Mouse Cys']))\n",
    "\n",
    "# Ensure lengths match for data\n",
    "length = len(data['Position'])\n",
    "data['Human Cys'] = data['Human Cys'][:length]\n",
    "data['Mouse Cys'] = data['Mouse Cys'][:length]\n",
    "\n",
    "# Check lengths after adjustment\n",
    "print(\"Adjusted Length of Human Cys:\", len(data['Human Cys']))\n",
    "print(\"Adjusted Length of Mouse Cys:\", len(data['Mouse Cys']))\n",
    "\n",
    "# Create DataFrame with adjusted data\n",
    "df = pd.DataFrame(data)\n",
    "\n",
    "# Ensure distances length matches\n",
    "assert len(distances) == len(df), \"Length of distances does not match number of rows in data.\"\n",
    "\n",
    "# Add distances to the DataFrame\n",
    "df['Distance'] = distances[:len(df)]\n",
    "\n",
    "# Filter DataFrame to include only rows with distances less than 5\n",
    "df_filtered = df[df['Distance'] < 12]\n",
    "\n",
    "# Save filtered DataFrame to a new CSV file in the current working directory\n",
    "filtered_file_path = 'human_mouse_cys_comparison_filtered_distances3.csv'\n",
    "df_filtered.to_csv(filtered_file_path, index=False)\n",
    "\n",
    "print(f\"Filtered file saved to {filtered_file_path}\")\n"
   ]
  },
  {
   "cell_type": "code",
   "execution_count": 38,
   "metadata": {},
   "outputs": [
    {
     "name": "stdout",
     "output_type": "stream",
     "text": [
      "Combinations file saved to mutant_combinations_11.csv\n"
     ]
    }
   ],
   "source": [
    "import pandas as pd\n",
    "from itertools import combinations\n",
    "\n",
    "# Load data from the CSV file\n",
    "file_path = 'human_mouse_cys_comparison_filtered_distances3.csv'\n",
    "df = pd.read_csv(file_path)\n",
    "\n",
    "# Ensure necessary columns exist\n",
    "required_columns = ['Position', 'Human Cys', 'Mouse Cys', 'Distance']\n",
    "if not all(col in df.columns for col in required_columns):\n",
    "    raise ValueError(f\"The file must contain the following columns: {', '.join(required_columns)}\")\n",
    "\n",
    "# Generate all possible combinations of the mutants\n",
    "combination_list = []\n",
    "for r in range(2, len(df) + 1):  # Generate combinations of size 2 up to the size of the DataFrame\n",
    "    for combo in combinations(df.index, r):\n",
    "        combo_df = df.loc[list(combo)]\n",
    "        combo_dict = {\n",
    "            'Combination': ', '.join(combo_df['Position'].astype(str)),\n",
    "            'Human Cys': ', '.join(combo_df['Human Cys']),\n",
    "            'Mouse Cys': ', '.join(combo_df['Mouse Cys']),\n",
    "            'Distance': ', '.join(combo_df['Distance'].astype(str))\n",
    "        }\n",
    "        combination_list.append(combo_dict)\n",
    "\n",
    "# Create DataFrame for combinations\n",
    "comb_df = pd.DataFrame(combination_list)\n",
    "\n",
    "# Save combinations DataFrame to a CSV file\n",
    "combinations_file_path = 'mutant_combinations_11.csv'\n",
    "comb_df.to_csv(combinations_file_path, index=False)\n",
    "\n",
    "print(f\"Combinations file saved to {combinations_file_path}\")\n"
   ]
  },
  {
   "cell_type": "code",
   "execution_count": 22,
   "metadata": {},
   "outputs": [
    {
     "data": {
      "image/png": "[encoded data removed]",
      "text/plain": [
       "<Figure size 2000x120 with 2 Axes>"
      ]
     },
     "metadata": {},
     "output_type": "display_data"
    }
   ],
   "source": [
    "import matplotlib.pyplot as plt\n",
    "\n",
    "# Define amino acid properties and colors\n",
    "properties = {\n",
    "    'Hydrophobic': ['A', 'V', 'L', 'I', 'M', 'F', 'Y', 'W'],\n",
    "    'Aromatic': ['F', 'Y', 'W'],\n",
    "    'Aliphatic': ['A', 'V', 'L', 'I', 'M'],\n",
    "    'Charged': ['K', 'R', 'H', 'D', 'E'],\n",
    "    'Polar': ['N', 'Q', 'S', 'T', 'C'],\n",
    "    'Neutral': ['G', 'P'],\n",
    "    'Other': []\n",
    "}\n",
    "\n",
    "colors = {\n",
    "    'Hydrophobic': 'lightgray',\n",
    "    'Aromatic': 'lightblue',\n",
    "    'Aliphatic': 'lightgreen',\n",
    "    'Charged': 'lightcoral',\n",
    "    'Polar': 'lightpink',\n",
    "    'Neutral': 'lightgoldenrodyellow',\n",
    "    'Other': 'lightgrey'\n",
    "}\n",
    "\n",
    "# Define the sequences\n",
    "seq1 = \"PQNRKVDCNKGVTGTIYEYGALTLNGEEYIQFKQFAGKHVLFVNVAAYCGLAAQYPELNALQEELKNFGVIVLAFPCNQFGKQEPGTNSEILLGLKYVCPGSGFVPSFQLFEKGDVNGEKEQKVFTFLKNSCPPTSDLLGSSSQLFWEPMKVHDIRWNFEKFLVGPDGVPVMHWFHQAPVSTVKSDILEYLKQFNTH\"\n",
    "seq2 = \"PQKSKVDCNKGVTGTVYEYGANTIDGGEFVNFQQYAGKHILFVNVASFCGLTATYPELNTLQEELKPFNVTVLGFPCNQFGKQEPGKNSEILLGLKYVRPGGGYVPNFQLFEKGDVNGDNEQKVFSFLKNSCPPTSELFGSPEHLFWDPMKVHDIRWNFEKFLVGPDGVPVMRWFHHTPVRIVQSDIMEYLNQTS--\"\n",
    "\n",
    "# Create a dictionary to map amino acids to their properties\n",
    "aa_properties = {}\n",
    "for prop, aas in properties.items():\n",
    "    for aa in aas:\n",
    "        aa_properties[aa] = prop\n",
    "\n",
    "# Define function to map sequence to colors and labels\n",
    "def sequence_to_colors_and_labels(sequence):\n",
    "    colors_list = [colors[aa_properties.get(aa, 'Other')] for aa in sequence]\n",
    "    labels_list = sequence\n",
    "    return colors_list, labels_list\n",
    "\n",
    "# Plotting\n",
    "fig, axes = plt.subplots(2, 1, figsize=(20, 1.2), sharex=True)\n",
    "\n",
    "# Plot seq1\n",
    "colors_list1, labels_list1 = sequence_to_colors_and_labels(seq1)\n",
    "for j, (color, label) in enumerate(zip(colors_list1, labels_list1)):\n",
    "    axes[0].add_patch(plt.Rectangle((j, 0), 1, 1, color=color))\n",
    "    axes[0].text(j + 0.5, 0.5, label, color='black', ha='center', va='center', fontsize=8)\n",
    "axes[0].set_xlim(0, len(seq1))\n",
    "axes[0].set_ylim(0, 1)\n",
    "axes[0].set_yticks([])\n",
    "axes[0].set_xticks([])\n",
    "axes[0].set_title('Human Cys')\n",
    "\n",
    "# Plot seq2\n",
    "colors_list2, labels_list2 = sequence_to_colors_and_labels(seq2)\n",
    "for j, (color, label) in enumerate(zip(colors_list2, labels_list2)):\n",
    "    axes[1].add_patch(plt.Rectangle((j, 0), 1, 1, color=color))\n",
    "    axes[1].text(j + 0.5, 0.5, label, color='black', ha='center', va='center', fontsize=8)\n",
    "axes[1].set_xlim(0, len(seq2))\n",
    "axes[1].set_ylim(0, 1)\n",
    "axes[1].set_yticks([])\n",
    "axes[1].set_xticks([])\n",
    "axes[1].set_title('Mouse Cys')\n",
    "\n",
    "# Add legend\n",
    "handles = [plt.Line2D([0], [0], color=colors[prop], lw=4) for prop in properties]\n",
    "labels = [f'{prop} ({\", \".join(properties[prop])})' for prop in properties]\n",
    "#plt.figlegend(handles, labels, loc='upper center', ncol=3, bbox_to_anchor=(0.5, 1.05))\n",
    "\n",
    "plt.tight_layout()\n",
    "plt.show()\n"
   ]
  }
 ],
 "metadata": {
  "kernelspec": {
   "display_name": "openMM",
   "language": "python",
   "name": "python3"
  },
  "language_info": {
   "codemirror_mode": {
    "name": "ipython",
    "version": 3
   },
   "file_extension": ".py",
   "mimetype": "text/x-python",
   "name": "python",
   "nbconvert_exporter": "python",
   "pygments_lexer": "ipython3",
   "version": "3.8.19"
  }
 },
 "nbformat": 4,
 "nbformat_minor": 2
}
